{
 "cells": [
  {
   "cell_type": "code",
   "execution_count": null,
   "id": "ead7058c",
   "metadata": {},
   "outputs": [],
   "source": [
    "# !pip install openai==0.28"
   ]
  },
  {
   "cell_type": "code",
   "execution_count": null,
   "id": "97e83f5f",
   "metadata": {},
   "outputs": [],
   "source": [
    "## GPT 3.5"
   ]
  },
  {
   "cell_type": "code",
   "execution_count": 1,
   "id": "e062ab1d",
   "metadata": {},
   "outputs": [],
   "source": [
    "import pandas as pd\n",
    "import openai"
   ]
  },
  {
   "cell_type": "code",
   "execution_count": 2,
   "id": "a7c084f4",
   "metadata": {},
   "outputs": [],
   "source": [
    "openai.api_key_path = 'openai-key.txt'"
   ]
  },
  {
   "cell_type": "code",
   "execution_count": 3,
   "id": "8a62903e",
   "metadata": {},
   "outputs": [],
   "source": [
    "df = pd.read_csv('result.csv')\n",
    "\n",
    "general_prompts_df = pd.read_csv('dataset/general-prompts.csv')\n",
    "\n",
    "prompt_engineered_df = pd.read_csv('dataset/prompt-engineered.csv')"
   ]
  },
  {
   "cell_type": "code",
   "execution_count": null,
   "id": "45e16a01",
   "metadata": {},
   "outputs": [],
   "source": [
    "def get_response(prompt):\n",
    "    \"\"\"\n",
    "    Function to get the response from the model for a given prompt.\n",
    "    \"\"\"\n",
    "    response = openai.Completion.create(\n",
    "        engine=\"text-davinci-002\",  # Select the appropriate model\n",
    "        prompt=prompt,\n",
    "        max_tokens=150  # Adjust as needed\n",
    "    )\n",
    "    return response.choices[0].text.strip()\n",
    "\n",
    "# Example usage with one question from each set\n",
    "question_original = df['question'][0]  \n",
    "question_general = general_prompts_df['question'][0]  \n",
    "question_engineered = prompt_engineered_df['question'][0]  \n",
    "\n",
    "# Getting responses\n",
    "response_original = get_response(question_original)\n",
    "response_general = get_response(question_general)\n",
    "response_engineered = get_response(question_engineered)\n",
    "\n",
    "print(\"Original Prompt Response:\", response_original)\n",
    "print(\"General Prompt Response:\", response_general)\n",
    "print(\"Engineered Prompt Response:\", response_engineered)"
   ]
  },
  {
   "cell_type": "code",
   "execution_count": null,
   "id": "7f24795a",
   "metadata": {},
   "outputs": [],
   "source": [
    "# # Load the dataset\n",
    "# df = pd.read_csv('result.csv')\n",
    "\n",
    "# # Select columns for Zero-Shot CoT and Manual CoT methods\n",
    "# cot_data = df[['question', 'zero_shot_cot_output', 'manual_cot_output']]\n",
    "\n",
    "# # Process the data to create a combined prompt for each method\n",
    "# cot_data['zero_shot_cot_prompt'] = cot_data.apply(lambda row: f\"Question: {row['question']}\\nAnswer: {row['zero_shot_cot_output']}\", axis=1)\n",
    "# cot_data['manual_cot_prompt'] = cot_data.apply(lambda row: f\"Question: {row['question']}\\nAnswer: {row['manual_cot_output']}\", axis=1)\n",
    "\n",
    "# # Combine the prompts into one dataset for tuning\n",
    "# combined_prompts = pd.concat([cot_data['zero_shot_cot_prompt'], cot_data['manual_cot_prompt']])"
   ]
  },
  {
   "cell_type": "code",
   "execution_count": 4,
   "id": "7c4f4508",
   "metadata": {},
   "outputs": [],
   "source": [
    "def query_model(prompt):\n",
    "    try:\n",
    "        response = openai.Completion.create(\n",
    "            model=\"text-davinci-003\",  # Update the model as needed\n",
    "            prompt=prompt,\n",
    "            max_tokens=150\n",
    "        )\n",
    "        return response.choices[0].text.strip()\n",
    "    except Exception as e:\n",
    "        return str(e)"
   ]
  },
  {
   "cell_type": "code",
   "execution_count": 5,
   "id": "3e354444",
   "metadata": {},
   "outputs": [
    {
     "name": "stdout",
     "output_type": "stream",
     "text": [
      "Refined Prompt: Based on the following information, answer the question: yes. Question: Does the individual often have difficulty sustaining attention in tasks or play activities?\n",
      "Model Response: You exceeded your current quota, please check your plan and billing details.\n",
      "Refined Prompt: Based on the following information, answer the question: yes. Question: Is there a tendency to make careless mistakes in schoolwork or other activities due to lack of attention?\n",
      "Model Response: You exceeded your current quota, please check your plan and billing details.\n",
      "Refined Prompt: Based on the following information, answer the question: difficult to determine from the information given. Question: Does the person seem to be easily distracted by unrelated stimuli or events?\n",
      "Model Response: You exceeded your current quota, please check your plan and billing details.\n",
      "Refined Prompt: Based on the following information, answer the question: unclear. Question: Is there a frequent forgetfulness in daily activities such as forgetting to complete chores or keep appointments?\n",
      "Model Response: You exceeded your current quota, please check your plan and billing details.\n",
      "Refined Prompt: Based on the following information, answer the question: yes. Question: Does the individual have difficulty organizing tasks and activities?\n",
      "Model Response: You exceeded your current quota, please check your plan and billing details.\n",
      "Refined Prompt: Based on the following information, answer the question: yes. Question: Is there avoidance or reluctance to engage in tasks that require sustained mental effort?\n",
      "Model Response: You exceeded your current quota, please check your plan and billing details.\n",
      "Refined Prompt: Based on the following information, answer the question: yes. Question: Does the person often fidget or tap hands or feet when seated?\n",
      "Model Response: You exceeded your current quota, please check your plan and billing details.\n",
      "Refined Prompt: Based on the following information, answer the question: yes. Question: Is there a tendency to talk excessively, interrupt others, or have difficulty waiting for one's turn in conversations?\n",
      "Model Response: You exceeded your current quota, please check your plan and billing details.\n",
      "Refined Prompt: Based on the following information, answer the question: yes. Question: Does the individual often act without thinking, resulting in accidents or impulsive decisions?\n",
      "Model Response: You exceeded your current quota, please check your plan and billing details.\n",
      "Refined Prompt: Based on the following information, answer the question: yes, there can be difficulties in staying seated in situations where it's expected. For example, if someone has ADHD, they may have trouble sitting still in a Question: Are there difficulties in staying seated in situations where it's expected (e.g. at school or in the workplace)?\n",
      "Model Response: You exceeded your current quota, please check your plan and billing details.\n",
      "Refined Prompt: Based on the following information, answer the question: no. Question: Is there a constant need for movement, such as being unable to sit still for an extended period?\n",
      "Model Response: You exceeded your current quota, please check your plan and billing details.\n",
      "Refined Prompt: Based on the following information, answer the question: yes. Question: Does the person struggle to follow through on instructions or complete tasks?\n",
      "Model Response: You exceeded your current quota, please check your plan and billing details.\n",
      "Refined Prompt: Based on the following information, answer the question: yes. There is a pattern of forgetfulness in daily activities, even those that are routine. Question: Is there a pattern of forgetfulness in daily activities, even those that are routine?\n",
      "Model Response: You exceeded your current quota, please check your plan and billing details.\n",
      "Refined Prompt: Based on the following information, answer the question: yes. Question: Does the individual often shift from one uncompleted activity to another?\n",
      "Model Response: You exceeded your current quota, please check your plan and billing details.\n",
      "Refined Prompt: Based on the following information, answer the question: yes. Question: Are there challenges in organizing activities, such as frequently misplacing personal items?\n",
      "Model Response: You exceeded your current quota, please check your plan and billing details.\n",
      "Refined Prompt: Based on the following information, answer the question: yes. Question: Does the person experience difficulty in regulating their emotions, resulting in mood swings or emotional outbursts?\n",
      "Model Response: You exceeded your current quota, please check your plan and billing details.\n",
      "Refined Prompt: Based on the following information, answer the question: yes. Question: Is there a history of academic or occupational underachievement despite having the ability to do well?\n",
      "Model Response: You exceeded your current quota, please check your plan and billing details.\n",
      "Refined Prompt: Based on the following information, answer the question: yes. Question: Does the individual struggle with time management and meeting deadlines?\n",
      "Model Response: You exceeded your current quota, please check your plan and billing details.\n",
      "Refined Prompt: Based on the following information, answer the question: yes. Question: Are there difficulties in sustaining relationships due to impulsive behaviors or difficulty listening?\n",
      "Model Response: You exceeded your current quota, please check your plan and billing details.\n",
      "Refined Prompt: Based on the following information, answer the question: yes. Question: Does the person experience chronic feelings of restlessness or an internal sense of being \"on the go\"?\n",
      "Model Response: You exceeded your current quota, please check your plan and billing details.\n",
      "Refined Prompt: Based on the following information, answer the question: yes. Question: Does the individual frequently lose personal items like keys or wallets?\n",
      "Model Response: You exceeded your current quota, please check your plan and billing details.\n",
      "Refined Prompt: Based on the following information, answer the question: yes. Question: Is there a tendency to start multiple tasks but struggle to finish them?\n",
      "Model Response: You exceeded your current quota, please check your plan and billing details.\n",
      "Refined Prompt: Based on the following information, answer the question: yes. Question: Does the person have difficulty staying on topic during conversations?\n",
      "Model Response: You exceeded your current quota, please check your plan and billing details.\n",
      "Refined Prompt: Based on the following information, answer the question: yes. There is a heightened sensitivity to sensory stimuli, such as sounds, lights, or textures. Question: Is there a heightened sensitivity to sensory stimuli, such as sounds, lights, or textures?\n",
      "Model Response: You exceeded your current quota, please check your plan and billing details.\n",
      "Refined Prompt: Based on the following information, answer the question: unclear. Question: Does the individual struggle with transitions between tasks or activities?\n",
      "Model Response: You exceeded your current quota, please check your plan and billing details.\n",
      "Refined Prompt: Based on the following information, answer the question: yes. Question: Is there a history of impulsive spending or financial decision-making?\n",
      "Model Response: You exceeded your current quota, please check your plan and billing details.\n",
      "Refined Prompt: Based on the following information, answer the question: yes. Question: Does the person experience difficulty in maintaining a regular sleep schedule?\n",
      "Model Response: You exceeded your current quota, please check your plan and billing details.\n",
      "Refined Prompt: Based on the following information, answer the question: yes. Question: Is there a tendency to daydream or become easily absorbed in thoughts?\n",
      "Model Response: You exceeded your current quota, please check your plan and billing details.\n",
      "Refined Prompt: Based on the following information, answer the question: yes. Question: Does the individual exhibit a low tolerance for frustration or easily become irritable?\n",
      "Model Response: You exceeded your current quota, please check your plan and billing details.\n",
      "Refined Prompt: Based on the following information, answer the question: unclear. Question: Is there a pattern of procrastination in daily tasks or responsibilities?\n",
      "Model Response: You exceeded your current quota, please check your plan and billing details.\n"
     ]
    },
    {
     "name": "stdout",
     "output_type": "stream",
     "text": [
      "Refined Prompt: Based on the following information, answer the question: yes. Question: Does the person often interrupt others' conversations or activities?\n",
      "Model Response: You exceeded your current quota, please check your plan and billing details.\n",
      "Refined Prompt: Based on the following information, answer the question: yes. Question: Is there a tendency to engage in risk-taking behaviors without considering consequences?\n",
      "Model Response: You exceeded your current quota, please check your plan and billing details.\n",
      "Refined Prompt: Based on the following information, answer the question: not known. Question: Does the individual have a history of struggling with written communication, such as writing essays or reports?\n",
      "Model Response: You exceeded your current quota, please check your plan and billing details.\n",
      "Refined Prompt: Based on the following information, answer the question: yes. Question: Is there difficulty in adapting to changes in routines or unexpected events?\n",
      "Model Response: You exceeded your current quota, please check your plan and billing details.\n",
      "Refined Prompt: Based on the following information, answer the question: unclear. Question: Does the person frequently misjudge the passage of time or struggle with time perception?\n",
      "Model Response: You exceeded your current quota, please check your plan and billing details.\n",
      "Refined Prompt: Based on the following information, answer the question: yes. Question: Is there a tendency to hyperfocus on specific tasks or activities to the exclusion of others?\n",
      "Model Response: You exceeded your current quota, please check your plan and billing details.\n",
      "Refined Prompt: Based on the following information, answer the question: yes. Question: Does the individual exhibit difficulties in starting tasks that require a significant amount of mental effort?\n",
      "Model Response: You exceeded your current quota, please check your plan and billing details.\n",
      "Refined Prompt: Based on the following information, answer the question: yes. ADHD can lead to academic and employment difficulties. Question: Is there a history of academic or employment difficulties due to ADHD-related challenges?\n",
      "Model Response: You exceeded your current quota, please check your plan and billing details.\n",
      "Refined Prompt: Based on the following information, answer the question: yes. Question: Does the person often feel restless or find it challenging to relax during leisure activities?\n",
      "Model Response: You exceeded your current quota, please check your plan and billing details.\n",
      "Refined Prompt: Based on the following information, answer the question: likely \"yes\" if the person in question has difficulty completing tasks or projects, is easily distracted, or has a history of starting new projects without finishing old ones Question: Is there a pattern of impulsively starting new projects or activities without considering the workload?\n",
      "Model Response: You exceeded your current quota, please check your plan and billing details.\n"
     ]
    }
   ],
   "source": [
    "for index, row in df.iterrows():\n",
    "    best_cot_method = 'zero_shot_output' \n",
    "\n",
    "    # Original question\n",
    "    question = row['question']\n",
    "    \n",
    "    # Response from the best CoT method\n",
    "    best_response = row[best_cot_method]\n",
    "\n",
    "    # Create a refined prompt based on the best response\n",
    "    refined_prompt = \"Based on the following information, answer the question: \" + best_response + \" Question: \" + question\n",
    "\n",
    "    # Test the refined prompt with the model\n",
    "    model_response = query_model(refined_prompt)\n",
    "\n",
    "    # Output the refined prompt and model response for analysis\n",
    "    print(f\"Refined Prompt: {refined_prompt}\")\n",
    "    print(f\"Model Response: {model_response}\")\n",
    "\n",
    "    # Update the DataFrame with the refined prompt and model response\n",
    "    df.at[index, 'refined_prompt'] = refined_prompt\n",
    "    df.at[index, 'model_response'] = model_response"
   ]
  },
  {
   "cell_type": "code",
   "execution_count": null,
   "id": "cd5fcffe",
   "metadata": {},
   "outputs": [],
   "source": [
    "# Save the updated DataFrame to a new CSV file\n",
    "df.to_csv('updated_result.csv', index=False)"
   ]
  },
  {
   "cell_type": "code",
   "execution_count": null,
   "id": "2ec35559",
   "metadata": {},
   "outputs": [],
   "source": [
    "## Llama"
   ]
  },
  {
   "cell_type": "code",
   "execution_count": null,
   "id": "6c1c5e2f",
   "metadata": {},
   "outputs": [],
   "source": [
    "import torch\n",
    "from transformers import LlamaTokenizer, LlamaForCausalLM\n",
    "from transformers import TextGenerationPipeline\n",
    "\n",
    "# Load LLaMA model and tokenizer\n",
    "model_name = \"Llama-13B\"  # Replace with the specific LLaMA model you're using\n",
    "tokenizer = LlamaTokenizer.from_pretrained(model_name)\n",
    "model = LlamaForCausalLM.from_pretrained(model_name)\n",
    "\n",
    "# Define a pipeline for text generation\n",
    "pipeline = TextGenerationPipeline(model=model, tokenizer=tokenizer)\n",
    "\n",
    "# Define your prompts\n",
    "prompts = [\n",
    "    \"Translate the following sentence to French: '{}'\",\n",
    "    \"Summarize the following text: '{}'\",\n",
    "    # Add more prompts as needed\n",
    "]\n",
    "\n",
    "# Generate embeddings for each prompt\n",
    "prompt_embeddings = []\n",
    "for prompt in prompts:\n",
    "    inputs = tokenizer(prompt, return_tensors=\"pt\")\n",
    "    outputs = model(**inputs)\n",
    "    prompt_embeddings.append(outputs.last_hidden_state)\n",
    "\n",
    "# Fine-tune the model using these embeddings with your task-specific data\n",
    "\n",
    "# Example of using the fine-tuned model\n",
    "test_input = \"Translate the following sentence to French: 'Hello, how are you?'\"\n",
    "generated_text = pipeline(test_input)\n",
    "print(generated_text)"
   ]
  },
  {
   "cell_type": "code",
   "execution_count": null,
   "id": "efa6614f",
   "metadata": {},
   "outputs": [],
   "source": []
  }
 ],
 "metadata": {
  "kernelspec": {
   "display_name": "Python 3 (ipykernel)",
   "language": "python",
   "name": "python3"
  },
  "language_info": {
   "codemirror_mode": {
    "name": "ipython",
    "version": 3
   },
   "file_extension": ".py",
   "mimetype": "text/x-python",
   "name": "python",
   "nbconvert_exporter": "python",
   "pygments_lexer": "ipython3",
   "version": "3.9.13"
  }
 },
 "nbformat": 4,
 "nbformat_minor": 5
}
